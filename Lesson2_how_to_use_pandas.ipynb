{
  "nbformat": 4,
  "nbformat_minor": 0,
  "metadata": {
    "colab": {
      "name": "Lesson2-how_to_use_pandas.ipynb",
      "provenance": [],
      "collapsed_sections": [],
      "authorship_tag": "ABX9TyMPv1orOhJ6Cw/cg8roSLoy",
      "include_colab_link": true
    },
    "kernelspec": {
      "name": "python3",
      "display_name": "Python 3"
    },
    "language_info": {
      "name": "python"
    }
  },
  "cells": [
    {
      "cell_type": "markdown",
      "metadata": {
        "id": "view-in-github",
        "colab_type": "text"
      },
      "source": [
        "<a href=\"https://colab.research.google.com/github/YBen1/Analyse_Flight_Data/blob/main/Lesson2_how_to_use_pandas.ipynb\" target=\"_parent\"><img src=\"https://colab.research.google.com/assets/colab-badge.svg\" alt=\"Open In Colab\"/></a>"
      ]
    },
    {
      "cell_type": "markdown",
      "source": [
        "## Lesson one"
      ],
      "metadata": {
        "id": "rPBnIr7UzB6r"
      }
    },
    {
      "cell_type": "code",
      "execution_count": null,
      "metadata": {
        "colab": {
          "base_uri": "https://localhost:8080/"
        },
        "id": "zMj2DxKvysDK",
        "outputId": "853c1294-d338-4fb7-dd35-57cb249d4ba8"
      },
      "outputs": [
        {
          "output_type": "stream",
          "name": "stdout",
          "text": [
            "Looking in indexes: https://pypi.org/simple, https://us-python.pkg.dev/colab-wheels/public/simple/\n",
            "Collecting pandapower\n",
            "  Downloading pandapower-2.9.0.zip (6.0 MB)\n",
            "\u001b[K     |████████████████████████████████| 6.0 MB 4.8 MB/s \n",
            "\u001b[?25hRequirement already satisfied: pandas>=0.17 in /usr/local/lib/python3.7/dist-packages (from pandapower) (1.3.5)\n",
            "Requirement already satisfied: networkx>=2.5 in /usr/local/lib/python3.7/dist-packages (from pandapower) (2.6.3)\n",
            "Requirement already satisfied: scipy in /usr/local/lib/python3.7/dist-packages (from pandapower) (1.7.3)\n",
            "Requirement already satisfied: numpy>=0.11 in /usr/local/lib/python3.7/dist-packages (from pandapower) (1.21.6)\n",
            "Requirement already satisfied: packaging in /usr/local/lib/python3.7/dist-packages (from pandapower) (21.3)\n",
            "Requirement already satisfied: tqdm in /usr/local/lib/python3.7/dist-packages (from pandapower) (4.64.0)\n",
            "Requirement already satisfied: python-dateutil>=2.7.3 in /usr/local/lib/python3.7/dist-packages (from pandas>=0.17->pandapower) (2.8.2)\n",
            "Requirement already satisfied: pytz>=2017.3 in /usr/local/lib/python3.7/dist-packages (from pandas>=0.17->pandapower) (2022.1)\n",
            "Requirement already satisfied: six>=1.5 in /usr/local/lib/python3.7/dist-packages (from python-dateutil>=2.7.3->pandas>=0.17->pandapower) (1.15.0)\n",
            "Requirement already satisfied: pyparsing!=3.0.5,>=2.0.2 in /usr/local/lib/python3.7/dist-packages (from packaging->pandapower) (3.0.9)\n",
            "Building wheels for collected packages: pandapower\n",
            "  Building wheel for pandapower (setup.py) ... \u001b[?25l\u001b[?25hdone\n",
            "  Created wheel for pandapower: filename=pandapower-2.9.0-py3-none-any.whl size=5931107 sha256=cd5f21a66343bf49f9bb35bed89f239c87d05423f5c34a0e418fd57d8e23eb5e\n",
            "  Stored in directory: /root/.cache/pip/wheels/94/44/e3/be45d434be4b2427df371bf379756058ae2485e721c8acca2a\n",
            "Successfully built pandapower\n",
            "Installing collected packages: pandapower\n",
            "Successfully installed pandapower-2.9.0\n"
          ]
        }
      ],
      "source": [
        "!pip install pandapower"
      ]
    },
    {
      "cell_type": "code",
      "source": [
        "!pip install pytest"
      ],
      "metadata": {
        "colab": {
          "base_uri": "https://localhost:8080/"
        },
        "id": "TLsO6ga612F7",
        "outputId": "404f88c9-9cd6-415c-e982-f625d7ebbb92"
      },
      "execution_count": null,
      "outputs": [
        {
          "output_type": "stream",
          "name": "stdout",
          "text": [
            "Looking in indexes: https://pypi.org/simple, https://us-python.pkg.dev/colab-wheels/public/simple/\n",
            "Requirement already satisfied: pytest in /usr/local/lib/python3.7/dist-packages (3.6.4)\n",
            "Requirement already satisfied: setuptools in /usr/local/lib/python3.7/dist-packages (from pytest) (57.4.0)\n",
            "Requirement already satisfied: pluggy<0.8,>=0.5 in /usr/local/lib/python3.7/dist-packages (from pytest) (0.7.1)\n",
            "Requirement already satisfied: attrs>=17.4.0 in /usr/local/lib/python3.7/dist-packages (from pytest) (21.4.0)\n",
            "Requirement already satisfied: atomicwrites>=1.0 in /usr/local/lib/python3.7/dist-packages (from pytest) (1.4.1)\n",
            "Requirement already satisfied: more-itertools>=4.0.0 in /usr/local/lib/python3.7/dist-packages (from pytest) (8.13.0)\n",
            "Requirement already satisfied: six>=1.10.0 in /usr/local/lib/python3.7/dist-packages (from pytest) (1.15.0)\n",
            "Requirement already satisfied: py>=1.5.0 in /usr/local/lib/python3.7/dist-packages (from pytest) (1.11.0)\n"
          ]
        }
      ]
    },
    {
      "cell_type": "code",
      "source": [
        "import pandapower.test\n",
        "import pandapower as pp\n",
        "import pandapower.networks as nw\n",
        "import pandapower.topology\n",
        "import pandapower.plotting\n",
        "import pandapower.converter\n",
        "import pandapower.estimation"
      ],
      "metadata": {
        "id": "mjFnccc11C1o"
      },
      "execution_count": null,
      "outputs": []
    },
    {
      "cell_type": "code",
      "source": [
        "net = nw.mv_oberrhein()"
      ],
      "metadata": {
        "id": "jGYTqWWL1Vt2"
      },
      "execution_count": null,
      "outputs": []
    },
    {
      "cell_type": "code",
      "source": [
        "print(net)\n",
        "pp.runpp(net)\n",
        "print(net.res_bus)"
      ],
      "metadata": {
        "colab": {
          "base_uri": "https://localhost:8080/"
        },
        "id": "FIzmBJ703Q8-",
        "outputId": "cc5eed64-e713-41da-86ba-aa72e456c29a"
      },
      "execution_count": null,
      "outputs": [
        {
          "output_type": "stream",
          "name": "stdout",
          "text": [
            "This pandapower network includes the following parameter tables:\n",
            "   - bus (179 elements)\n",
            "   - load (147 elements)\n",
            "   - sgen (153 elements)\n",
            "   - switch (322 elements)\n",
            "   - ext_grid (2 elements)\n",
            "   - line (181 elements)\n",
            "   - trafo (2 elements)\n",
            "   - line_geodata (181 elements)\n",
            "   - bus_geodata (179 elements)\n",
            " and the following results tables:\n",
            "   - res_bus (179 elements)\n",
            "   - res_line (181 elements)\n",
            "   - res_trafo (2 elements)\n",
            "   - res_ext_grid (2 elements)\n",
            "   - res_load (147 elements)\n",
            "   - res_sgen (153 elements)\n",
            "        vm_pu  va_degree       p_mw    q_mvar\n",
            "0    1.009473  -6.778921   0.240000  0.048734\n",
            "1    1.009354  -6.783526   0.150000  0.030459\n",
            "2    1.010306  -6.753059   0.150000  0.030459\n",
            "3    1.008611  -6.807492   0.150000  0.030459\n",
            "4    1.010021  -6.761493   0.150000  0.030459\n",
            "..        ...        ...        ...       ...\n",
            "315  1.001721  -7.022972   0.240000  0.048734\n",
            "316  0.983367  -7.616827   0.150000  0.030459\n",
            "317  0.999822  -6.622559   0.000000  0.000000\n",
            "318  1.000000   0.000000 -20.863017 -4.653035\n",
            "319  1.028804  -4.943953   0.000000  0.000000\n",
            "\n",
            "[179 rows x 4 columns]\n"
          ]
        }
      ]
    },
    {
      "cell_type": "code",
      "source": [
        "highest = net.res_bus.vm_pu.max()\n",
        "highest_ones = net.res_bus.loc[net.res_bus.vm_pu > 1.02]\n",
        "lines = net.res_line.loc[net.res_line.loading_percent > 50.0 ]"
      ],
      "metadata": {
        "id": "qB_hINek3TLd"
      },
      "execution_count": null,
      "outputs": []
    },
    {
      "cell_type": "code",
      "source": [
        "print(highest)\n",
        "print(highest_ones)\n",
        "print(lines)"
      ],
      "metadata": {
        "colab": {
          "base_uri": "https://localhost:8080/"
        },
        "id": "ODPGtlFk7FFz",
        "outputId": "ea76e244-90a5-417b-f13c-73f8ce9e8200"
      },
      "execution_count": null,
      "outputs": [
        {
          "output_type": "stream",
          "name": "stdout",
          "text": [
            "1.02880399949919\n",
            "        vm_pu  va_degree  p_mw    q_mvar\n",
            "6    1.023551  -5.478506   0.3  0.060918\n",
            "29   1.023672  -5.529761   0.0  0.000000\n",
            "30   1.021042  -5.836976   0.0  0.000000\n",
            "126  1.025896  -5.273690   0.0  0.000000\n",
            "319  1.028804  -4.943953   0.0  0.000000\n",
            "     p_from_mw  q_from_mvar    p_to_mw  q_to_mvar     pl_mw   ql_mvar  \\\n",
            "27   -6.597881    -0.537311   6.606828   0.525385  0.008948 -0.011925   \n",
            "36   -7.635327    -0.691719   7.640443   0.684674  0.005116 -0.007046   \n",
            "38  -12.330775    -1.483886  12.362572   1.568526  0.031798  0.084640   \n",
            "39    7.102491     0.822561  -7.097633  -0.827524  0.004857 -0.004962   \n",
            "54    7.803244     0.698553  -7.790443  -0.715132  0.012800 -0.016579   \n",
            "127 -12.512577    -1.582248  12.585890   1.777424  0.073313  0.195176   \n",
            "136   6.857633     0.778790  -6.850680  -0.786739  0.006953 -0.007950   \n",
            "137  -6.300425    -0.711482   6.304776   0.705088  0.004351 -0.006394   \n",
            "138  -6.694779    -0.773874   6.700678   0.766658  0.005899 -0.007217   \n",
            "161   7.587264     1.017911  -7.579017  -1.028473  0.008247 -0.010562   \n",
            "172   7.894113     1.040353  -7.889053  -1.045856  0.005059 -0.005503   \n",
            "173   7.361037     0.948284  -7.357755  -0.952827  0.003282 -0.004544   \n",
            "175   8.142213     1.081196  -8.134113  -1.089087  0.008100 -0.007891   \n",
            "178   6.510663     0.803436  -6.502889  -0.813153  0.007774 -0.009717   \n",
            "179   6.899354     0.869039  -6.888663  -0.880192  0.010691 -0.011154   \n",
            "181  -7.076187    -0.970938   7.087205   0.960290  0.011018 -0.010648   \n",
            "182  -7.327205    -1.009024   7.333067   1.000724  0.005862 -0.008300   \n",
            "183   7.579017     1.028473  -7.573067  -1.036058  0.005950 -0.007586   \n",
            "185   6.320167     0.829354  -6.302343  -0.854072  0.017824 -0.024718   \n",
            "192  -7.199354    -0.929956   7.207755   0.922368  0.008401 -0.007588   \n",
            "193 -12.885890    -1.838341  12.934222   1.967063  0.048332  0.128722   \n",
            "\n",
            "     i_from_ka   i_to_ka      i_ka  vm_from_pu  va_from_degree  vm_to_pu  \\\n",
            "27    0.188461  0.188419  0.188461    1.013978       -6.129279  1.015424   \n",
            "36    0.217294  0.217264  0.217294    1.018509       -5.945687  1.019242   \n",
            "38    0.354219  0.354215  0.354219    1.012162       -6.693747  1.015590   \n",
            "39    0.203922  0.203949  0.203949    1.012162       -6.693747  1.011422   \n",
            "54    0.221500  0.221573  0.221573    1.021042       -5.836976  1.019242   \n",
            "127   0.358494  0.358486  0.358494    1.015590       -6.320228  1.023551   \n",
            "136   0.196985  0.197028  0.197028    1.011422       -6.717358  1.010325   \n",
            "137   0.181468  0.181437  0.181468    1.008630       -6.806958  1.009374   \n",
            "138   0.192742  0.192704  0.192742    1.009374       -6.782962  1.010325   \n",
            "161   0.219345  0.219415  0.219415    1.007488       -4.950861  1.006280   \n",
            "172   0.228937  0.228975  0.228975    1.004006       -5.241812  1.003297   \n",
            "173   0.213547  0.213575  0.213575    1.003297       -5.270182  1.002804   \n",
            "175   0.235904  0.235962  0.235962    1.005108       -5.197843  1.004006   \n",
            "178   0.189395  0.189450  0.189450    0.999879       -5.381777  0.998597   \n",
            "179   0.200431  0.200500  0.200500    1.001547       -5.329324  0.999879   \n",
            "181   0.205603  0.205531  0.205603    1.002834       -5.120110  1.004519   \n",
            "182   0.212554  0.212501  0.212554    1.004519       -5.068446  1.005407   \n",
            "183   0.219415  0.219465  0.219465    1.006280       -4.998786  1.005407   \n",
            "185   0.183492  0.183635  0.183635    1.002834       -5.120110  0.999786   \n",
            "192   0.209230  0.209180  0.209230    1.001547       -5.329324  1.002804   \n",
            "193   0.367104  0.367098  0.367104    1.023551       -5.478506  1.028804   \n",
            "\n",
            "     va_to_degree  loading_percent  \n",
            "27      -6.079423        52.060962  \n",
            "36      -5.914167        51.613683  \n",
            "38      -6.320228        54.917657  \n",
            "39      -6.717358        56.339637  \n",
            "54      -5.914167        52.630092  \n",
            "127     -5.478506        55.580519  \n",
            "136     -6.752499        54.427497  \n",
            "137     -6.782962        50.129147  \n",
            "138     -6.752499        53.243563  \n",
            "161     -4.998786        52.117530  \n",
            "172     -5.270182        54.388370  \n",
            "173     -5.290007        50.730337  \n",
            "175     -5.241812        56.047929  \n",
            "178     -5.422395        52.334229  \n",
            "179     -5.381777        55.386610  \n",
            "181     -5.068446        56.796475  \n",
            "182     -5.033323        50.487858  \n",
            "183     -5.033323        52.129538  \n",
            "185     -5.214442        50.727960  \n",
            "192     -5.290007        57.798449  \n",
            "193     -4.943953        56.915376  \n"
          ]
        }
      ]
    },
    {
      "cell_type": "code",
      "source": [
        ""
      ],
      "metadata": {
        "id": "TNn8n6VO7Omk"
      },
      "execution_count": null,
      "outputs": []
    }
  ]
}