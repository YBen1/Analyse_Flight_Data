{
  "nbformat": 4,
  "nbformat_minor": 0,
  "metadata": {
    "colab": {
      "name": "DayTradeTree.ipynb",
      "provenance": [],
      "collapsed_sections": [],
      "authorship_tag": "ABX9TyMXhPfJyMWe3zqjR/rcHARc",
      "include_colab_link": true
    },
    "kernelspec": {
      "name": "python3",
      "display_name": "Python 3"
    },
    "language_info": {
      "name": "python"
    }
  },
  "cells": [
    {
      "cell_type": "markdown",
      "metadata": {
        "id": "view-in-github",
        "colab_type": "text"
      },
      "source": [
        "<a href=\"https://colab.research.google.com/github/YBen1/Analyse_Flight_Data/blob/main/DayTradeTree.ipynb\" target=\"_parent\"><img src=\"https://colab.research.google.com/assets/colab-badge.svg\" alt=\"Open In Colab\"/></a>"
      ]
    },
    {
      "cell_type": "markdown",
      "source": [
        "I try boild a prediction based on the beginning of the day"
      ],
      "metadata": {
        "id": "YLpAttnMoTL-"
      }
    },
    {
      "cell_type": "code",
      "execution_count": null,
      "metadata": {
        "id": "90Pzk0t4QDQf"
      },
      "outputs": [],
      "source": [
        "import pandas as pd\n",
        "from sklearn.tree import DecisionTreeRegressor\n",
        "from sklearn.model_selection import train_test_split\n",
        "import datetime\n",
        "from datetime import timedelta"
      ]
    },
    {
      "cell_type": "code",
      "source": [
        "!pip install yfinance"
      ],
      "metadata": {
        "colab": {
          "base_uri": "https://localhost:8080/"
        },
        "id": "d9R_XIoOSMGa",
        "outputId": "2dd25304-b5f7-4fb4-f780-a80310e8670f"
      },
      "execution_count": null,
      "outputs": [
        {
          "output_type": "stream",
          "name": "stdout",
          "text": [
            "Requirement already satisfied: yfinance in /usr/local/lib/python3.7/dist-packages (0.1.70)\n",
            "Requirement already satisfied: requests>=2.26 in /usr/local/lib/python3.7/dist-packages (from yfinance) (2.27.1)\n",
            "Requirement already satisfied: lxml>=4.5.1 in /usr/local/lib/python3.7/dist-packages (from yfinance) (4.8.0)\n",
            "Requirement already satisfied: multitasking>=0.0.7 in /usr/local/lib/python3.7/dist-packages (from yfinance) (0.0.10)\n",
            "Requirement already satisfied: numpy>=1.15 in /usr/local/lib/python3.7/dist-packages (from yfinance) (1.21.5)\n",
            "Requirement already satisfied: pandas>=0.24.0 in /usr/local/lib/python3.7/dist-packages (from yfinance) (1.3.5)\n",
            "Requirement already satisfied: python-dateutil>=2.7.3 in /usr/local/lib/python3.7/dist-packages (from pandas>=0.24.0->yfinance) (2.8.2)\n",
            "Requirement already satisfied: pytz>=2017.3 in /usr/local/lib/python3.7/dist-packages (from pandas>=0.24.0->yfinance) (2018.9)\n",
            "Requirement already satisfied: six>=1.5 in /usr/local/lib/python3.7/dist-packages (from python-dateutil>=2.7.3->pandas>=0.24.0->yfinance) (1.15.0)\n",
            "Requirement already satisfied: idna<4,>=2.5 in /usr/local/lib/python3.7/dist-packages (from requests>=2.26->yfinance) (2.10)\n",
            "Requirement already satisfied: certifi>=2017.4.17 in /usr/local/lib/python3.7/dist-packages (from requests>=2.26->yfinance) (2021.10.8)\n",
            "Requirement already satisfied: urllib3<1.27,>=1.21.1 in /usr/local/lib/python3.7/dist-packages (from requests>=2.26->yfinance) (1.24.3)\n",
            "Requirement already satisfied: charset-normalizer~=2.0.0 in /usr/local/lib/python3.7/dist-packages (from requests>=2.26->yfinance) (2.0.12)\n"
          ]
        }
      ]
    },
    {
      "cell_type": "markdown",
      "source": [
        "#ToDo: set end date for today and beginning date at end date - 730 days"
      ],
      "metadata": {
        "id": "gF5XfXGlgi_9"
      }
    },
    {
      "cell_type": "code",
      "source": [
        "import yfinance as yf\n",
        "\n",
        "# Set the start and end date\n",
        "end_date = '2022-03-18'\n",
        "start_date =  pd.to_datetime(end_date) - timedelta(days=729)\n",
        "\n",
        "# Set the ticker\n",
        "ticker = 'AMZN'\n",
        "\n",
        "# Get the data\n",
        "data = yf.download(ticker, start_date, end_date, interval = \"1h\")\n",
        "\n",
        "# Print 5 rows\n",
        "data.tail()"
      ],
      "metadata": {
        "colab": {
          "base_uri": "https://localhost:8080/",
          "height": 225
        },
        "id": "LjzrAeRYQI2a",
        "outputId": "61e77afa-6d02-4412-f012-11ecf856051e"
      },
      "execution_count": null,
      "outputs": [
        {
          "output_type": "stream",
          "name": "stdout",
          "text": [
            "\r[*********************100%***********************]  1 of 1 completed\n"
          ]
        },
        {
          "output_type": "execute_result",
          "data": {
            "text/plain": [
              "                                  Open         High          Low        Close  \\\n",
              "2022-03-17 12:30:00-04:00  3102.815918  3116.090088  3095.425049  3115.000000   \n",
              "2022-03-17 13:30:00-04:00  3116.000000  3143.000000  3106.989990  3125.770020   \n",
              "2022-03-17 14:30:00-04:00  3128.280029  3149.969971  3121.659912  3130.020020   \n",
              "2022-03-17 15:30:00-04:00  3130.850098  3147.546631  3128.385010  3147.389893   \n",
              "2022-03-17 16:00:00-04:00  3144.780029  3144.780029  3144.780029  3144.780029   \n",
              "\n",
              "                             Adj Close  Volume  \n",
              "2022-03-17 12:30:00-04:00  3115.000000  347032  \n",
              "2022-03-17 13:30:00-04:00  3125.770020  419986  \n",
              "2022-03-17 14:30:00-04:00  3130.020020  401784  \n",
              "2022-03-17 15:30:00-04:00  3147.389893  440397  \n",
              "2022-03-17 16:00:00-04:00  3144.780029       0  "
            ],
            "text/html": [
              "\n",
              "  <div id=\"df-2a280bc8-955f-4f4b-b428-80e877559d70\">\n",
              "    <div class=\"colab-df-container\">\n",
              "      <div>\n",
              "<style scoped>\n",
              "    .dataframe tbody tr th:only-of-type {\n",
              "        vertical-align: middle;\n",
              "    }\n",
              "\n",
              "    .dataframe tbody tr th {\n",
              "        vertical-align: top;\n",
              "    }\n",
              "\n",
              "    .dataframe thead th {\n",
              "        text-align: right;\n",
              "    }\n",
              "</style>\n",
              "<table border=\"1\" class=\"dataframe\">\n",
              "  <thead>\n",
              "    <tr style=\"text-align: right;\">\n",
              "      <th></th>\n",
              "      <th>Open</th>\n",
              "      <th>High</th>\n",
              "      <th>Low</th>\n",
              "      <th>Close</th>\n",
              "      <th>Adj Close</th>\n",
              "      <th>Volume</th>\n",
              "    </tr>\n",
              "  </thead>\n",
              "  <tbody>\n",
              "    <tr>\n",
              "      <th>2022-03-17 12:30:00-04:00</th>\n",
              "      <td>3102.815918</td>\n",
              "      <td>3116.090088</td>\n",
              "      <td>3095.425049</td>\n",
              "      <td>3115.000000</td>\n",
              "      <td>3115.000000</td>\n",
              "      <td>347032</td>\n",
              "    </tr>\n",
              "    <tr>\n",
              "      <th>2022-03-17 13:30:00-04:00</th>\n",
              "      <td>3116.000000</td>\n",
              "      <td>3143.000000</td>\n",
              "      <td>3106.989990</td>\n",
              "      <td>3125.770020</td>\n",
              "      <td>3125.770020</td>\n",
              "      <td>419986</td>\n",
              "    </tr>\n",
              "    <tr>\n",
              "      <th>2022-03-17 14:30:00-04:00</th>\n",
              "      <td>3128.280029</td>\n",
              "      <td>3149.969971</td>\n",
              "      <td>3121.659912</td>\n",
              "      <td>3130.020020</td>\n",
              "      <td>3130.020020</td>\n",
              "      <td>401784</td>\n",
              "    </tr>\n",
              "    <tr>\n",
              "      <th>2022-03-17 15:30:00-04:00</th>\n",
              "      <td>3130.850098</td>\n",
              "      <td>3147.546631</td>\n",
              "      <td>3128.385010</td>\n",
              "      <td>3147.389893</td>\n",
              "      <td>3147.389893</td>\n",
              "      <td>440397</td>\n",
              "    </tr>\n",
              "    <tr>\n",
              "      <th>2022-03-17 16:00:00-04:00</th>\n",
              "      <td>3144.780029</td>\n",
              "      <td>3144.780029</td>\n",
              "      <td>3144.780029</td>\n",
              "      <td>3144.780029</td>\n",
              "      <td>3144.780029</td>\n",
              "      <td>0</td>\n",
              "    </tr>\n",
              "  </tbody>\n",
              "</table>\n",
              "</div>\n",
              "      <button class=\"colab-df-convert\" onclick=\"convertToInteractive('df-2a280bc8-955f-4f4b-b428-80e877559d70')\"\n",
              "              title=\"Convert this dataframe to an interactive table.\"\n",
              "              style=\"display:none;\">\n",
              "        \n",
              "  <svg xmlns=\"http://www.w3.org/2000/svg\" height=\"24px\"viewBox=\"0 0 24 24\"\n",
              "       width=\"24px\">\n",
              "    <path d=\"M0 0h24v24H0V0z\" fill=\"none\"/>\n",
              "    <path d=\"M18.56 5.44l.94 2.06.94-2.06 2.06-.94-2.06-.94-.94-2.06-.94 2.06-2.06.94zm-11 1L8.5 8.5l.94-2.06 2.06-.94-2.06-.94L8.5 2.5l-.94 2.06-2.06.94zm10 10l.94 2.06.94-2.06 2.06-.94-2.06-.94-.94-2.06-.94 2.06-2.06.94z\"/><path d=\"M17.41 7.96l-1.37-1.37c-.4-.4-.92-.59-1.43-.59-.52 0-1.04.2-1.43.59L10.3 9.45l-7.72 7.72c-.78.78-.78 2.05 0 2.83L4 21.41c.39.39.9.59 1.41.59.51 0 1.02-.2 1.41-.59l7.78-7.78 2.81-2.81c.8-.78.8-2.07 0-2.86zM5.41 20L4 18.59l7.72-7.72 1.47 1.35L5.41 20z\"/>\n",
              "  </svg>\n",
              "      </button>\n",
              "      \n",
              "  <style>\n",
              "    .colab-df-container {\n",
              "      display:flex;\n",
              "      flex-wrap:wrap;\n",
              "      gap: 12px;\n",
              "    }\n",
              "\n",
              "    .colab-df-convert {\n",
              "      background-color: #E8F0FE;\n",
              "      border: none;\n",
              "      border-radius: 50%;\n",
              "      cursor: pointer;\n",
              "      display: none;\n",
              "      fill: #1967D2;\n",
              "      height: 32px;\n",
              "      padding: 0 0 0 0;\n",
              "      width: 32px;\n",
              "    }\n",
              "\n",
              "    .colab-df-convert:hover {\n",
              "      background-color: #E2EBFA;\n",
              "      box-shadow: 0px 1px 2px rgba(60, 64, 67, 0.3), 0px 1px 3px 1px rgba(60, 64, 67, 0.15);\n",
              "      fill: #174EA6;\n",
              "    }\n",
              "\n",
              "    [theme=dark] .colab-df-convert {\n",
              "      background-color: #3B4455;\n",
              "      fill: #D2E3FC;\n",
              "    }\n",
              "\n",
              "    [theme=dark] .colab-df-convert:hover {\n",
              "      background-color: #434B5C;\n",
              "      box-shadow: 0px 1px 3px 1px rgba(0, 0, 0, 0.15);\n",
              "      filter: drop-shadow(0px 1px 2px rgba(0, 0, 0, 0.3));\n",
              "      fill: #FFFFFF;\n",
              "    }\n",
              "  </style>\n",
              "\n",
              "      <script>\n",
              "        const buttonEl =\n",
              "          document.querySelector('#df-2a280bc8-955f-4f4b-b428-80e877559d70 button.colab-df-convert');\n",
              "        buttonEl.style.display =\n",
              "          google.colab.kernel.accessAllowed ? 'block' : 'none';\n",
              "\n",
              "        async function convertToInteractive(key) {\n",
              "          const element = document.querySelector('#df-2a280bc8-955f-4f4b-b428-80e877559d70');\n",
              "          const dataTable =\n",
              "            await google.colab.kernel.invokeFunction('convertToInteractive',\n",
              "                                                     [key], {});\n",
              "          if (!dataTable) return;\n",
              "\n",
              "          const docLinkHtml = 'Like what you see? Visit the ' +\n",
              "            '<a target=\"_blank\" href=https://colab.research.google.com/notebooks/data_table.ipynb>data table notebook</a>'\n",
              "            + ' to learn more about interactive tables.';\n",
              "          element.innerHTML = '';\n",
              "          dataTable['output_type'] = 'display_data';\n",
              "          await google.colab.output.renderOutput(dataTable, element);\n",
              "          const docLink = document.createElement('div');\n",
              "          docLink.innerHTML = docLinkHtml;\n",
              "          element.appendChild(docLink);\n",
              "        }\n",
              "      </script>\n",
              "    </div>\n",
              "  </div>\n",
              "  "
            ]
          },
          "metadata": {},
          "execution_count": 158
        }
      ]
    },
    {
      "cell_type": "markdown",
      "source": [
        "Lets get only the openings"
      ],
      "metadata": {
        "id": "9gaBSbqhq7HO"
      }
    },
    {
      "cell_type": "code",
      "source": [
        "\n",
        "stock_opening = data.loc[data.index.hour == 9]"
      ],
      "metadata": {
        "id": "HiN0cexqSGNK"
      },
      "execution_count": null,
      "outputs": []
    },
    {
      "cell_type": "code",
      "source": [
        "stock_day = data.loc[data.index.hour!= 9]\n",
        "min_and_max = stock_day.groupby(stock_day.index.date).agg({'High': ['max'], 'Low' : ['min']})"
      ],
      "metadata": {
        "id": "Jt622IPkVl13"
      },
      "execution_count": null,
      "outputs": []
    },
    {
      "cell_type": "code",
      "source": [
        "y = stock_day.groupby(stock_day.index.date).agg({'High': ['max'], 'Low': ['min']})\n",
        "feature_columns = ['Open', 'High','Low', 'Close' ,'Adj Close', 'Volume']\n",
        "X = stock_opening[feature_columns]\n",
        "y.tail()"
      ],
      "metadata": {
        "id": "Pzi9Qn6us31j",
        "colab": {
          "base_uri": "https://localhost:8080/",
          "height": 238
        },
        "outputId": "4851b6e5-1c26-487b-b600-c9d8bbc49ced"
      },
      "execution_count": null,
      "outputs": [
        {
          "output_type": "execute_result",
          "data": {
            "text/plain": [
              "                   High          Low\n",
              "                    max          min\n",
              "2022-03-11  2972.445068  2907.379883\n",
              "2022-03-14  2924.000000  2817.679932\n",
              "2022-03-15  2959.699951  2906.770020\n",
              "2022-03-16  3063.000000  2947.070068\n",
              "2022-03-17  3149.969971  3056.445312"
            ],
            "text/html": [
              "\n",
              "  <div id=\"df-bb0a8222-a18e-436f-9580-2b44c334ed2d\">\n",
              "    <div class=\"colab-df-container\">\n",
              "      <div>\n",
              "<style scoped>\n",
              "    .dataframe tbody tr th:only-of-type {\n",
              "        vertical-align: middle;\n",
              "    }\n",
              "\n",
              "    .dataframe tbody tr th {\n",
              "        vertical-align: top;\n",
              "    }\n",
              "\n",
              "    .dataframe thead tr th {\n",
              "        text-align: left;\n",
              "    }\n",
              "</style>\n",
              "<table border=\"1\" class=\"dataframe\">\n",
              "  <thead>\n",
              "    <tr>\n",
              "      <th></th>\n",
              "      <th>High</th>\n",
              "      <th>Low</th>\n",
              "    </tr>\n",
              "    <tr>\n",
              "      <th></th>\n",
              "      <th>max</th>\n",
              "      <th>min</th>\n",
              "    </tr>\n",
              "  </thead>\n",
              "  <tbody>\n",
              "    <tr>\n",
              "      <th>2022-03-11</th>\n",
              "      <td>2972.445068</td>\n",
              "      <td>2907.379883</td>\n",
              "    </tr>\n",
              "    <tr>\n",
              "      <th>2022-03-14</th>\n",
              "      <td>2924.000000</td>\n",
              "      <td>2817.679932</td>\n",
              "    </tr>\n",
              "    <tr>\n",
              "      <th>2022-03-15</th>\n",
              "      <td>2959.699951</td>\n",
              "      <td>2906.770020</td>\n",
              "    </tr>\n",
              "    <tr>\n",
              "      <th>2022-03-16</th>\n",
              "      <td>3063.000000</td>\n",
              "      <td>2947.070068</td>\n",
              "    </tr>\n",
              "    <tr>\n",
              "      <th>2022-03-17</th>\n",
              "      <td>3149.969971</td>\n",
              "      <td>3056.445312</td>\n",
              "    </tr>\n",
              "  </tbody>\n",
              "</table>\n",
              "</div>\n",
              "      <button class=\"colab-df-convert\" onclick=\"convertToInteractive('df-bb0a8222-a18e-436f-9580-2b44c334ed2d')\"\n",
              "              title=\"Convert this dataframe to an interactive table.\"\n",
              "              style=\"display:none;\">\n",
              "        \n",
              "  <svg xmlns=\"http://www.w3.org/2000/svg\" height=\"24px\"viewBox=\"0 0 24 24\"\n",
              "       width=\"24px\">\n",
              "    <path d=\"M0 0h24v24H0V0z\" fill=\"none\"/>\n",
              "    <path d=\"M18.56 5.44l.94 2.06.94-2.06 2.06-.94-2.06-.94-.94-2.06-.94 2.06-2.06.94zm-11 1L8.5 8.5l.94-2.06 2.06-.94-2.06-.94L8.5 2.5l-.94 2.06-2.06.94zm10 10l.94 2.06.94-2.06 2.06-.94-2.06-.94-.94-2.06-.94 2.06-2.06.94z\"/><path d=\"M17.41 7.96l-1.37-1.37c-.4-.4-.92-.59-1.43-.59-.52 0-1.04.2-1.43.59L10.3 9.45l-7.72 7.72c-.78.78-.78 2.05 0 2.83L4 21.41c.39.39.9.59 1.41.59.51 0 1.02-.2 1.41-.59l7.78-7.78 2.81-2.81c.8-.78.8-2.07 0-2.86zM5.41 20L4 18.59l7.72-7.72 1.47 1.35L5.41 20z\"/>\n",
              "  </svg>\n",
              "      </button>\n",
              "      \n",
              "  <style>\n",
              "    .colab-df-container {\n",
              "      display:flex;\n",
              "      flex-wrap:wrap;\n",
              "      gap: 12px;\n",
              "    }\n",
              "\n",
              "    .colab-df-convert {\n",
              "      background-color: #E8F0FE;\n",
              "      border: none;\n",
              "      border-radius: 50%;\n",
              "      cursor: pointer;\n",
              "      display: none;\n",
              "      fill: #1967D2;\n",
              "      height: 32px;\n",
              "      padding: 0 0 0 0;\n",
              "      width: 32px;\n",
              "    }\n",
              "\n",
              "    .colab-df-convert:hover {\n",
              "      background-color: #E2EBFA;\n",
              "      box-shadow: 0px 1px 2px rgba(60, 64, 67, 0.3), 0px 1px 3px 1px rgba(60, 64, 67, 0.15);\n",
              "      fill: #174EA6;\n",
              "    }\n",
              "\n",
              "    [theme=dark] .colab-df-convert {\n",
              "      background-color: #3B4455;\n",
              "      fill: #D2E3FC;\n",
              "    }\n",
              "\n",
              "    [theme=dark] .colab-df-convert:hover {\n",
              "      background-color: #434B5C;\n",
              "      box-shadow: 0px 1px 3px 1px rgba(0, 0, 0, 0.15);\n",
              "      filter: drop-shadow(0px 1px 2px rgba(0, 0, 0, 0.3));\n",
              "      fill: #FFFFFF;\n",
              "    }\n",
              "  </style>\n",
              "\n",
              "      <script>\n",
              "        const buttonEl =\n",
              "          document.querySelector('#df-bb0a8222-a18e-436f-9580-2b44c334ed2d button.colab-df-convert');\n",
              "        buttonEl.style.display =\n",
              "          google.colab.kernel.accessAllowed ? 'block' : 'none';\n",
              "\n",
              "        async function convertToInteractive(key) {\n",
              "          const element = document.querySelector('#df-bb0a8222-a18e-436f-9580-2b44c334ed2d');\n",
              "          const dataTable =\n",
              "            await google.colab.kernel.invokeFunction('convertToInteractive',\n",
              "                                                     [key], {});\n",
              "          if (!dataTable) return;\n",
              "\n",
              "          const docLinkHtml = 'Like what you see? Visit the ' +\n",
              "            '<a target=\"_blank\" href=https://colab.research.google.com/notebooks/data_table.ipynb>data table notebook</a>'\n",
              "            + ' to learn more about interactive tables.';\n",
              "          element.innerHTML = '';\n",
              "          dataTable['output_type'] = 'display_data';\n",
              "          await google.colab.output.renderOutput(dataTable, element);\n",
              "          const docLink = document.createElement('div');\n",
              "          docLink.innerHTML = docLinkHtml;\n",
              "          element.appendChild(docLink);\n",
              "        }\n",
              "      </script>\n",
              "    </div>\n",
              "  </div>\n",
              "  "
            ]
          },
          "metadata": {},
          "execution_count": 151
        }
      ]
    },
    {
      "cell_type": "code",
      "source": [
        "stock_model= DecisionTreeRegressor()\n",
        "# Fit Model\n",
        "stock_model.fit(X, y)"
      ],
      "metadata": {
        "colab": {
          "base_uri": "https://localhost:8080/"
        },
        "id": "fcsEMbN-vNkk",
        "outputId": "124acf2f-3a22-4cdf-a721-10d0d02c2816"
      },
      "execution_count": null,
      "outputs": [
        {
          "output_type": "execute_result",
          "data": {
            "text/plain": [
              "DecisionTreeRegressor()"
            ]
          },
          "metadata": {},
          "execution_count": 152
        }
      ]
    },
    {
      "cell_type": "code",
      "source": [
        "train_X, val_X, train_y, val_y = train_test_split(X,y, random_state = 0)\n",
        "\n",
        "from sklearn.tree import DecisionTreeRegressor\n",
        "\n",
        "stock_model = DecisionTreeRegressor(random_state=1)\n",
        "\n",
        "# Fit iowa_model with the training data.\n",
        "stock_model.fit(train_X, train_y)"
      ],
      "metadata": {
        "colab": {
          "base_uri": "https://localhost:8080/"
        },
        "id": "-SVYylNtzsxz",
        "outputId": "7bae2da2-83f9-4242-978e-9b984916aa8a"
      },
      "execution_count": null,
      "outputs": [
        {
          "output_type": "execute_result",
          "data": {
            "text/plain": [
              "DecisionTreeRegressor(random_state=1)"
            ]
          },
          "metadata": {},
          "execution_count": 153
        }
      ]
    },
    {
      "cell_type": "code",
      "source": [
        "val_predictions = stock_model.predict(val_X)"
      ],
      "metadata": {
        "id": "2H42xY6Y0VSz"
      },
      "execution_count": null,
      "outputs": []
    },
    {
      "cell_type": "code",
      "source": [
        "print(val_predictions[:5])\n",
        "# print the top few actual prices from validation data\n",
        "print(val_y.head())\n",
        "print(val_X.head())"
      ],
      "metadata": {
        "colab": {
          "base_uri": "https://localhost:8080/"
        },
        "id": "BtIsAw8U0ewz",
        "outputId": "46496878-50dd-4f0e-b9aa-f5150a1b72a4"
      },
      "execution_count": null,
      "outputs": [
        {
          "output_type": "stream",
          "name": "stdout",
          "text": [
            "[[3060.85009766 2973.18017578]\n",
            " [3202.43994141 3175.77001953]\n",
            " [3279.80004883 3212.97509766]\n",
            " [3759.9855957  3637.65991211]\n",
            " [3256.12011719 3236.17993164]]\n",
            "                   High          Low\n",
            "                    max          min\n",
            "2020-07-28  3059.699951  2995.760010\n",
            "2020-08-06  3247.469971  3182.010010\n",
            "2022-02-07  3246.870117  3145.000000\n",
            "2021-07-26  3708.489990  3683.669922\n",
            "2021-10-12  3261.080078  3236.280029\n",
            "                                  Open         High          Low        Close  \\\n",
            "2020-07-28 09:30:00-04:00  3054.270020  3077.092529  3033.625000  3056.310059   \n",
            "2020-08-06 09:30:00-04:00  3200.500000  3205.000000  3165.429932  3197.399902   \n",
            "2022-02-07 09:30:00-05:00  3170.399902  3253.814941  3150.000000  3240.989990   \n",
            "2021-07-26 09:30:00-04:00  3673.169922  3712.080078  3650.000000  3695.385010   \n",
            "2021-10-12 09:30:00-04:00  3257.000000  3265.449951  3240.000000  3252.620117   \n",
            "\n",
            "                             Adj Close   Volume  \n",
            "2020-07-28 09:30:00-04:00  3056.310059   933553  \n",
            "2020-08-06 09:30:00-04:00  3197.399902  1060174  \n",
            "2022-02-07 09:30:00-05:00  3240.989990  1847224  \n",
            "2021-07-26 09:30:00-04:00  3695.385010   850608  \n",
            "2021-10-12 09:30:00-04:00  3252.620117   430105  \n"
          ]
        }
      ]
    },
    {
      "cell_type": "code",
      "source": [
        "from sklearn.metrics import mean_absolute_error\n",
        "val_mae = mean_absolute_error(val_y, val_predictions)"
      ],
      "metadata": {
        "id": "r7Spmiwa0fll"
      },
      "execution_count": null,
      "outputs": []
    },
    {
      "cell_type": "code",
      "source": [
        "val_y['High'].to_numpy()"
      ],
      "metadata": {
        "colab": {
          "base_uri": "https://localhost:8080/",
          "height": 301
        },
        "id": "CWKkPVqSnN1y",
        "outputId": "9aee235f-7d0d-42a4-98b5-15c67323bfb7"
      },
      "execution_count": null,
      "outputs": [
        {
          "output_type": "error",
          "ename": "AttributeError",
          "evalue": "ignored",
          "traceback": [
            "\u001b[0;31m---------------------------------------------------------------------------\u001b[0m",
            "\u001b[0;31mAttributeError\u001b[0m                            Traceback (most recent call last)",
            "\u001b[0;32m<ipython-input-193-31cae48fcc49>\u001b[0m in \u001b[0;36m<module>\u001b[0;34m()\u001b[0m\n\u001b[0;32m----> 1\u001b[0;31m \u001b[0mval_y\u001b[0m\u001b[0;34m[\u001b[0m\u001b[0;34m'High'\u001b[0m\u001b[0;34m]\u001b[0m\u001b[0;34m.\u001b[0m\u001b[0mtolist\u001b[0m\u001b[0;34m(\u001b[0m\u001b[0;34m)\u001b[0m\u001b[0;34m\u001b[0m\u001b[0;34m\u001b[0m\u001b[0m\n\u001b[0m",
            "\u001b[0;32m/usr/local/lib/python3.7/dist-packages/pandas/core/generic.py\u001b[0m in \u001b[0;36m__getattr__\u001b[0;34m(self, name)\u001b[0m\n\u001b[1;32m   5485\u001b[0m         ):\n\u001b[1;32m   5486\u001b[0m             \u001b[0;32mreturn\u001b[0m \u001b[0mself\u001b[0m\u001b[0;34m[\u001b[0m\u001b[0mname\u001b[0m\u001b[0;34m]\u001b[0m\u001b[0;34m\u001b[0m\u001b[0;34m\u001b[0m\u001b[0m\n\u001b[0;32m-> 5487\u001b[0;31m         \u001b[0;32mreturn\u001b[0m \u001b[0mobject\u001b[0m\u001b[0;34m.\u001b[0m\u001b[0m__getattribute__\u001b[0m\u001b[0;34m(\u001b[0m\u001b[0mself\u001b[0m\u001b[0;34m,\u001b[0m \u001b[0mname\u001b[0m\u001b[0;34m)\u001b[0m\u001b[0;34m\u001b[0m\u001b[0;34m\u001b[0m\u001b[0m\n\u001b[0m\u001b[1;32m   5488\u001b[0m \u001b[0;34m\u001b[0m\u001b[0m\n\u001b[1;32m   5489\u001b[0m     \u001b[0;32mdef\u001b[0m \u001b[0m__setattr__\u001b[0m\u001b[0;34m(\u001b[0m\u001b[0mself\u001b[0m\u001b[0;34m,\u001b[0m \u001b[0mname\u001b[0m\u001b[0;34m:\u001b[0m \u001b[0mstr\u001b[0m\u001b[0;34m,\u001b[0m \u001b[0mvalue\u001b[0m\u001b[0;34m)\u001b[0m \u001b[0;34m->\u001b[0m \u001b[0;32mNone\u001b[0m\u001b[0;34m:\u001b[0m\u001b[0;34m\u001b[0m\u001b[0;34m\u001b[0m\u001b[0m\n",
            "\u001b[0;31mAttributeError\u001b[0m: 'DataFrame' object has no attribute 'tolist'"
          ]
        }
      ]
    },
    {
      "cell_type": "code",
      "source": [
        "val_mae"
      ],
      "metadata": {
        "colab": {
          "base_uri": "https://localhost:8080/"
        },
        "id": "1CSMIRIe0sNk",
        "outputId": "8945f926-01db-4827-9ea2-bc1a26bbe90e"
      },
      "execution_count": null,
      "outputs": [
        {
          "output_type": "execute_result",
          "data": {
            "text/plain": [
              "27.088164798797123"
            ]
          },
          "metadata": {},
          "execution_count": 159
        }
      ]
    },
    {
      "cell_type": "code",
      "source": [
        "def day_trading(closed_at, pred_high, pred_low, real_high, real_low):\n",
        "  for i in range(len(closed_at)):\n",
        "    if closed_at[i] - pred_high[i] < pred_low[i] - closed_at[i]  and pred_low[i] < closed_at[i]:\n",
        "      #print(real_low[i])\n",
        "      if pred_low[i] > real_low[i]:\n",
        "        winning_procent = (1 - pred_low[i] /closed_at[i])*100 \n",
        "        print(\"you went short at {} and sould at {} with a win of {} procent\".format(closed_at[i], pred_low[i], winning_procent))\n",
        "      else: print('still invested in short')\n",
        "    else:\n",
        "      #print(real_low[i])\n",
        "      if pred_low[i] > real_low[i]:\n",
        "        winning_procent = ((pred_high[i] /closed_at[i]) -1)*100\n",
        "        print(\"you investeted long at {} and sould at {} with a win of {} procent\".format(closed_at[i], pred_low[i], winning_procent))\n",
        "      else: print('still invested in long')\n"
      ],
      "metadata": {
        "id": "WsoCEjLH0vB0"
      },
      "execution_count": null,
      "outputs": []
    },
    {
      "cell_type": "code",
      "source": [
        "day_trading(val_X['Close'],val_predictions[:,0],val_predictions[:,1] ,val_y['High'].to_numpy(), val_y['Low'].to_numpy())"
      ],
      "metadata": {
        "colab": {
          "base_uri": "https://localhost:8080/"
        },
        "id": "wXt_-ZkCmbum",
        "outputId": "739b905f-12a3-42ea-b22a-818f02b657cc"
      },
      "execution_count": null,
      "outputs": [
        {
          "output_type": "stream",
          "name": "stdout",
          "text": [
            "still invested in long\n",
            "still invested in long\n",
            "you went short at 3240.989990234375 and sould at 3212.97509765625 with a win of 0.8643930608406181 procent\n",
            "still invested in short\n",
            "still invested in long\n",
            "still invested in long\n",
            "still invested in long\n",
            "you investeted long at 3592.81005859375 and sould at 3560.0 with a win of 0.5797644084899911 procent\n",
            "still invested in short\n",
            "you went short at 3248.409912109375 and sould at 3237.0 with a win of 0.3512460686331931 procent\n",
            "still invested in long\n",
            "still invested in short\n",
            "still invested in short\n",
            "still invested in long\n",
            "still invested in short\n",
            "you investeted long at 3260.070068359375 and sould at 3261.090087890625 with a win of 0.8683805519361654 procent\n",
            "you investeted long at 2882.639892578125 and sould at 2906.77001953125 with a win of 2.6732461030652743 procent\n",
            "you went short at 3200.419921875 and sould at 3198.764892578125 with a win of 0.05171287947443037 procent\n",
            "still invested in long\n",
            "you went short at 2402.6298828125 and sould at 2391.2099609375 with a win of 0.4753092416228455 procent\n",
            "you investeted long at 3171.89990234375 and sould at 3146.89013671875 with a win of -0.15447846699478962 procent\n",
            "you went short at 3331.969970703125 and sould at 3303.89990234375 with a win of 0.8424466188526769 procent\n",
            "still invested in long\n",
            "you went short at 3295.330078125 and sould at 3289.0703125 with a win of 0.189958683245528 procent\n",
            "you went short at 2453.89990234375 and sould at 2445.31005859375 with a win of 0.3500486609822939 procent\n",
            "still invested in long\n",
            "you investeted long at 2418.830078125 and sould at 2397.02001953125 with a win of 0.7499448903904193 procent\n",
            "you investeted long at 3466.72998046875 and sould at 3439.0 with a win of 0.1405308806662786 procent\n",
            "still invested in long\n",
            "you investeted long at 3145.989990234375 and sould at 3054.675048828125 with a win of 0.12746416161757423 procent\n",
            "still invested in long\n",
            "you went short at 3217.0 and sould at 3211.1298828125 with a win of 0.18247178077401838 procent\n",
            "still invested in long\n",
            "you investeted long at 2913.7548828125 and sould at 2871.10205078125 with a win of 0.7977718827557156 procent\n",
            "still invested in long\n",
            "you went short at 3297.02001953125 and sould at 3292.860107421875 with a win of 0.1261718789916988 procent\n",
            "you went short at 3413.989990234375 and sould at 3403.97998046875 with a win of 0.29320559797358925 procent\n",
            "you investeted long at 3380.97998046875 and sould at 3363.110107421875 with a win of 0.2593928263968648 procent\n",
            "you went short at 3423.0 and sould at 3403.97998046875 with a win of 0.555653506609699 procent\n",
            "you went short at 3207.889892578125 and sould at 3186.0 with a win of 0.682376680969321 procent\n",
            "you investeted long at 3504.1005859375 and sould at 3467.469970703125 with a win of 0.5629913502567696 procent\n",
            "you went short at 2445.409912109375 and sould at 2445.31005859375 with a win of 0.004083303790114456 procent\n",
            "still invested in long\n",
            "still invested in short\n",
            "you went short at 3051.679931640625 and sould at 3032.429931640625 with a win of 0.6308000980185025 procent\n",
            "you went short at 1915.661865234375 and sould at 1902.219970703125 with a win of 0.7016840902455135 procent\n",
            "still invested in short\n",
            "still invested in long\n",
            "still invested in long\n",
            "you investeted long at 3214.0400390625 and sould at 3197.210205078125 with a win of 0.4611040366409913 procent\n",
            "still invested in long\n",
            "still invested in long\n",
            "you went short at 3389.041748046875 and sould at 3387.6982421875 with a win of 0.03964264707418952 procent\n",
            "you investeted long at 3471.340087890625 and sould at 3434.875 with a win of 0.7860051570445448 procent\n",
            "still invested in short\n",
            "still invested in long\n",
            "still invested in short\n",
            "you went short at 3101.050048828125 and sould at 3095.169921875 with a win of 0.18961728642035158 procent\n",
            "still invested in long\n",
            "you investeted long at 3471.989990234375 and sould at 3450.400634765625 with a win of 0.5152633685132635 procent\n",
            "still invested in long\n",
            "still invested in long\n",
            "still invested in long\n",
            "you investeted long at 3566.559326171875 and sould at 3527.7099609375 with a win of 0.6558316534469588 procent\n",
            "still invested in long\n",
            "still invested in long\n",
            "you went short at 1916.949951171875 and sould at 1902.219970703125 with a win of 0.7684071490622446 procent\n",
            "still invested in short\n",
            "still invested in long\n",
            "still invested in long\n",
            "still invested in long\n",
            "you investeted long at 2694.969970703125 and sould at 2726.010009765625 with a win of 2.2731240211052217 procent\n",
            "you went short at 3622.489990234375 and sould at 3607.645263671875 with a win of 0.4097934460141728 procent\n",
            "still invested in long\n",
            "still invested in long\n",
            "still invested in long\n",
            "you investeted long at 3036.489990234375 and sould at 3037.0 with a win of 2.8305692246079373 procent\n",
            "you investeted long at 3118.820068359375 and sould at 3100.0 with a win of 0.5039888648543878 procent\n",
            "still invested in long\n",
            "still invested in short\n",
            "still invested in long\n",
            "still invested in short\n",
            "you investeted long at 3362.925048828125 and sould at 3367.090087890625 with a win of 1.304667792560199 procent\n",
            "you went short at 3490.294921875 and sould at 3478.090087890625 with a win of 0.3496791605741567 procent\n",
            "still invested in short\n",
            "still invested in long\n",
            "you went short at 3613.0 and sould at 3586.14990234375 with a win of 0.7431524399737044 procent\n",
            "still invested in long\n",
            "still invested in short\n",
            "still invested in long\n",
            "still invested in long\n",
            "you went short at 3409.8798828125 and sould at 3387.10009765625 with a win of 0.6680524223469431 procent\n",
            "still invested in long\n",
            "still invested in long\n",
            "still invested in short\n",
            "still invested in long\n",
            "still invested in long\n",
            "still invested in short\n",
            "still invested in long\n",
            "you investeted long at 2891.35009765625 and sould at 2905.199951171875 with a win of 2.840714786915788 procent\n",
            "still invested in long\n",
            "still invested in long\n",
            "you investeted long at 2708.02001953125 and sould at 2726.010009765625 with a win of 1.780266046402601 procent\n",
            "still invested in long\n",
            "still invested in long\n",
            "still invested in long\n",
            "you investeted long at 3426.919921875 and sould at 3403.97998046875 with a win of 0.4843316047174806 procent\n",
            "you investeted long at 3020.320068359375 and sould at 2996.77001953125 with a win of 0.6237455270215131 procent\n",
            "still invested in long\n",
            "you went short at 3195.14501953125 and sould at 3190.0 with a win of 0.16102616625535138 procent\n",
            "you went short at 3269.43994140625 and sould at 3261.090087890625 with a win of 0.25539094356428205 procent\n",
            "still invested in long\n",
            "you investeted long at 3191.73193359375 and sould at 3194.0 with a win of 1.731601135563432 procent\n",
            "you investeted long at 1985.7249755859375 and sould at 2014.010009765625 with a win of 2.9216037145989304 procent\n",
            "still invested in long\n",
            "still invested in long\n",
            "you investeted long at 3534.320068359375 and sould at 3499.159912109375 with a win of 0.44958838675583923 procent\n",
            "still invested in short\n",
            "you went short at 3295.56005859375 and sould at 3292.860107421875 with a win of 0.08192692968329585 procent\n",
            "you investeted long at 3141.93994140625 and sould at 3092.75 with a win of -0.3271873265748626 procent\n",
            "still invested in long\n",
            "still invested in long\n",
            "still invested in long\n",
            "you went short at 3319.139892578125 and sould at 3317.0400390625 with a win of 0.06326498983427742 procent\n",
            "you investeted long at 3438.77001953125 and sould at 3409.420654296875 with a win of 0.20992954165655053 procent\n",
            "still invested in long\n"
          ]
        }
      ]
    },
    {
      "cell_type": "code",
      "source": [
        ""
      ],
      "metadata": {
        "id": "zUeElYownkdH"
      },
      "execution_count": null,
      "outputs": []
    }
  ]
}